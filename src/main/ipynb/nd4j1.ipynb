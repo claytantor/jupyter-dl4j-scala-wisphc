{
 "cells": [
  {
   "cell_type": "code",
   "execution_count": 9,
   "metadata": {
    "collapsed": false
   },
   "outputs": [
    {
     "data": {
      "text/plain": []
     },
     "metadata": {},
     "output_type": "display_data"
    }
   ],
   "source": [
    "classpath.addPath(\"/opt/app/libs/annotations-2.0.1.jar\")                \n",
    "classpath.addPath(\"/opt/app/libs/commons-io-2.4.jar\")\n",
    "classpath.addPath(\"/opt/app/libs/nd4j-native-0.5.0-linux-x86_64.jar\")\n",
    "classpath.addPath(\"/opt/app/libs/commons-lang3-3.3.1.jar\")\n",
    "classpath.addPath(\"/opt/app/libs/commons-math3-3.4.1.jar\")\n",
    "classpath.addPath(\"/opt/app/libs/guava-18.0.jar\")\n",
    "classpath.addPath(\"/opt/app/libs/nd4j-native-0.5.0.jar\")\n",
    "classpath.addPath(\"/opt/app/libs/javacpp-1.2.3.jar\")\n",
    "classpath.addPath(\"/opt/app/libs/nd4j-native-api-0.5.0.jar\")\n",
    "classpath.addPath(\"/opt/app/libs/javassist-3.18.2-GA.jar\")\n",
    "classpath.addPath(\"/opt/app/libs/nd4j-native-platform-0.5.0.jar\")\n",
    "classpath.addPath(\"/opt/app/libs/lombok-1.16.4.jar\")\n",
    "classpath.addPath(\"/opt/app/libs/reflections-0.9.10.jar\")\n",
    "classpath.addPath(\"/opt/app/libs/nd4j-api-0.5.0.jar\")\n",
    "classpath.addPath(\"/opt/app/libs/scala-library-2.11.1.jar\")\n",
    "classpath.addPath(\"/opt/app/libs/nd4j-buffer-0.5.0.jar\")\n",
    "classpath.addPath(\"/opt/app/libs/slf4j-api-1.7.21.jar\")\n",
    "classpath.addPath(\"/opt/app/libs/nd4j-common-0.5.0.jar\")\n",
    "classpath.addPath(\"/opt/app/libs/slf4j-simple-1.7.21.jar\")\n",
    "classpath.addPath(\"/opt/app/libs/nd4j-context-0.5.0.jar\")"
   ]
  },
  {
   "cell_type": "code",
   "execution_count": 23,
   "metadata": {
    "collapsed": false
   },
   "outputs": [
    {
     "name": "stdout",
     "output_type": "stream",
     "text": [
      "Adding 27 artifact(s)\n"
     ]
    },
    {
     "data": {
      "text/plain": []
     },
     "metadata": {},
     "output_type": "display_data"
    }
   ],
   "source": [
    "classpath.add(\"com.quantifind\" %% \"wisp\" % \"0.0.4\")"
   ]
  },
  {
   "cell_type": "code",
   "execution_count": 10,
   "metadata": {
    "collapsed": false
   },
   "outputs": [
    {
     "data": {
      "text/plain": [
       "\u001b[32mimport \u001b[36morg.nd4j.linalg.api.ndarray.INDArray\u001b[0m\n",
       "\u001b[32mimport \u001b[36morg.nd4j.linalg.factory.Nd4j\u001b[0m\n",
       "defined \u001b[32mobject \u001b[36mArrayApp\u001b[0m"
      ]
     },
     "metadata": {},
     "output_type": "display_data"
    }
   ],
   "source": [
    "import org.nd4j.linalg.api.ndarray.INDArray\n",
    "import org.nd4j.linalg.factory.Nd4j\n",
    "\n",
    "/**\n",
    "  * Created by claytongraham on 10/26/16.\n",
    "  */\n",
    "object ArrayApp {\n",
    "     def main(args: Array[String]): Unit = {\n",
    "        args.foreach(println)\n",
    "        println(\"Hello, world!\")\n",
    "        val arr: INDArray = Nd4j.create(Array[Float](1f, 20000000f, 40.838383f, 3f), Array[Int](2, 2))\n",
    "        println(arr)\n",
    "     }\n",
    " }"
   ]
  },
  {
   "cell_type": "code",
   "execution_count": 11,
   "metadata": {
    "collapsed": false
   },
   "outputs": [
    {
     "name": "stdout",
     "output_type": "stream",
     "text": [
      "Hello, world!\n",
      "[[         1.00, 20,000,000.00],\n",
      " [        40.84,          3.00]]\n"
     ]
    },
    {
     "data": {
      "text/plain": []
     },
     "metadata": {},
     "output_type": "display_data"
    }
   ],
   "source": [
    "ArrayApp.main(Array())"
   ]
  },
  {
   "cell_type": "code",
   "execution_count": 24,
   "metadata": {
    "collapsed": false
   },
   "outputs": [
    {
     "data": {
      "text/plain": [
       "\u001b[32mimport \u001b[36m com.quantifind.charts.highcharts.SeriesType\u001b[0m\n",
       "\u001b[32mimport \u001b[36mcom.quantifind.charts.Highcharts._\u001b[0m\n",
       "\u001b[32mimport \u001b[36m com.quantifind.charts.highcharts.Highchart\u001b[0m\n",
       "defined \u001b[32mfunction \u001b[36mshow\u001b[0m"
      ]
     },
     "metadata": {},
     "output_type": "display_data"
    }
   ],
   "source": [
    "import  com.quantifind.charts.highcharts.SeriesType\n",
    "import com.quantifind.charts.Highcharts._\n",
    "import  com.quantifind.charts.highcharts.Highchart\n",
    "\n",
    "def show(c:Highchart, name:String) = {\n",
    "    val json = s\"\"\"\n",
    "$$(function () {\n",
    "    $$('#$name').highcharts(${c.toJson})\n",
    "    })\n",
    "\"\"\"\n",
    "    display.html(<div id={name}>graph</div>)\n",
    "    display.js(json)\n",
    "}"
   ]
  },
  {
   "cell_type": "code",
   "execution_count": 25,
   "metadata": {
    "collapsed": false
   },
   "outputs": [
    {
     "data": {
      "text/html": [
       "<div>\n",
       "  <script src=\"http://code.highcharts.com/stock/highstock.js\"></script>\n",
       "  <script src=\"http://code.highcharts.com/stock/modules/exporting.js\"></script>\n",
       "  <script src=\"http://www.highcharts.com/js/themes/grid.js\"></script>\n",
       "</div>"
      ]
     },
     "metadata": {},
     "output_type": "display_data"
    },
    {
     "data": {
      "text/plain": []
     },
     "metadata": {},
     "output_type": "display_data"
    }
   ],
   "source": [
    "display.html(\n",
    "<div>\n",
    "  <script src=\"http://code.highcharts.com/stock/highstock.js\"></script>\n",
    "  <script src=\"http://code.highcharts.com/stock/modules/exporting.js\"></script>\n",
    "  <script src=\"http://www.highcharts.com/js/themes/grid.js\"></script>\n",
    "</div>)"
   ]
  },
  {
   "cell_type": "code",
   "execution_count": 26,
   "metadata": {
    "collapsed": false
   },
   "outputs": [
    {
     "name": "stdout",
     "output_type": "stream",
     "text": [
      "serving resources from: file:/opt/app/src/main/ipynb/index-1477624953243.html\n",
      "Server started: http://1502028efaf9:39652/index-1477624953243.html\n"
     ]
    },
    {
     "data": {
      "text/html": [
       "<div id=\"graph\">graph</div>"
      ]
     },
     "metadata": {},
     "output_type": "display_data"
    },
    {
     "name": "stdout",
     "output_type": "stream",
     "text": [
      "Error while opening window (cause: java.io.IOException: Cannot run program \"xdg-open\": error=2, No such file or directory)\n",
      "You can browse the following URL: http://1502028efaf9:39652\n",
      "Output written to http://1502028efaf9:39652 (CMD + Click link in Mac OSX).\n"
     ]
    },
    {
     "data": {
      "application/javascript": [
       "\n",
       "$(function () {\n",
       "    $('#graph').highcharts({\"series\":[{\"data\":[{\"x\":0,\"y\":1.0,\"name\":\"1.00 - 1.86\"},{\"x\":1,\"y\":2.0,\"name\":\"1.86 - 2.71\"},{\"x\":2,\"y\":2.0,\"name\":\"2.71 - 3.57\"},{\"x\":3,\"y\":5.0,\"name\":\"3.57 - 4.43\"},{\"x\":4,\"y\":3.0,\"name\":\"4.43 - 5.29\"},{\"x\":5,\"y\":1.0,\"name\":\"5.29 - 6.14\"},{\"x\":6,\"y\":0.0,\"name\":\"6.14 - 7.00\"},{\"x\":7,\"y\":1.0,\"name\":\"7.00 - 7.86\"}],\"type\":\"column\"}],\"exporting\":{\"filename\":\"chart\"},\"yAxis\":[{\"title\":{\"text\":\"\"}}],\"plotOptions\":{\"series\":{\"groupPadding\":0,\"pointPadding\":0},\"column\":{\"turboThreshold\":0}},\"credits\":{\"href\":\"\",\"text\":\"\"},\"chart\":{\"zoomType\":\"xy\"},\"title\":{\"text\":\"\"},\"xAxis\":[{\"categories\":[\"1.00 - 1.86\",\"1.86 - 2.71\",\"2.71 - 3.57\",\"3.57 - 4.43\",\"4.43 - 5.29\",\"5.29 - 6.14\",\"6.14 - 7.00\",\"7.00 - 7.86\"],\"title\":{\"text\":\"\"},\"labels\":{\"rotation\":-45}}]})\n",
       "    })\n"
      ]
     },
     "metadata": {},
     "output_type": "display_data"
    },
    {
     "data": {
      "text/plain": [
       "\u001b[36mchart\u001b[0m: com.quantifind.charts.highcharts.Highchart = \u001b[33mHighchart\u001b[0m(\n",
       "  \u001b[33mList\u001b[0m(\n",
       "    \u001b[33mSeries\u001b[0m(\n",
       "      \u001b[33mArrayBuffer\u001b[0m(\n",
       "        Data(0,1.0,None,Some(1.00 - 1.86)),\n",
       "        Data(1,2.0,None,Some(1.86 - 2.71)),\n",
       "        Data(2,2.0,None,Some(2.71 - 3.57)),\n",
       "        Data(3,5.0,None,Some(3.57 - 4.43)),\n",
       "        Data(4,3.0,None,Some(4.43 - 5.29)),\n",
       "        Data(5,1.0,None,Some(5.29 - 6.14)),\n",
       "        Data(6,0.0,None,Some(6.14 - 7.00)),\n",
       "        Data(7,1.0,None,Some(7.00 - 7.86))\n",
       "      ),\n",
       "      None,\n",
       "      None,\n",
       "      None,\n",
       "      \u001b[33mSome\u001b[0m(\u001b[32m\"column\"\u001b[0m),\n",
       "      None,\n",
       "      None,\n",
       "      None,\n",
       "\u001b[33m...\u001b[0m"
      ]
     },
     "metadata": {},
     "output_type": "display_data"
    }
   ],
   "source": [
    "val chart = histogram(Seq(1, 2, 2, 3, 3, 4, 4, 4, 4, 4, 5, 5, 5, 6, 7), 7)\n",
    "show(chart, \"graph\")"
   ]
  },
  {
   "cell_type": "code",
   "execution_count": null,
   "metadata": {
    "collapsed": true
   },
   "outputs": [],
   "source": []
  }
 ],
 "metadata": {
  "kernelspec": {
   "display_name": "Scala 2.10",
   "language": "scala210",
   "name": "scala210"
  },
  "language_info": {
   "codemirror_mode": "text/x-scala",
   "file_extension": ".scala",
   "mimetype": "text/x-scala",
   "name": "scala210",
   "pygments_lexer": "scala",
   "version": "2.10.6"
  }
 },
 "nbformat": 4,
 "nbformat_minor": 1
}
